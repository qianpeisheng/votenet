{
 "cells": [
  {
   "cell_type": "code",
   "execution_count": 1,
   "metadata": {},
   "outputs": [],
   "source": [
    "import matplotlib.pyplot as plt\n",
    "import numpy as np\n",
    "from model_util_scannet_CIL_37 import ScannetDatasetConfig\n",
    "import random\n",
    "from memory_bank_object import Memory_Bank_Object\n",
    "SEED = 42\n",
    "random.seed(SEED)"
   ]
  },
  {
   "cell_type": "code",
   "execution_count": 2,
   "metadata": {},
   "outputs": [],
   "source": [
    "# load object_reservoir from 'object_reservoir.pth'\n",
    "with open('object_reservoir.pth', 'rb') as f:\n",
    "    object_reservoir = np.load(f, allow_pickle=True)\n",
    "\n",
    "# initialize config\n",
    "config = ScannetDatasetConfig()"
   ]
  },
  {
   "cell_type": "code",
   "execution_count": 3,
   "metadata": {},
   "outputs": [
    {
     "name": "stdout",
     "output_type": "stream",
     "text": [
      "{0, 1, 2, 3, 4, 5, 6, 7, 8, 9, 10, 11, 12, 13, 14, 15, 16, 17, 18, 19, 20, 21, 22, 23, 24, 25, 26, 27, 28, 29, 30, 31, 32, 33, 34, 35, 36}\n"
     ]
    }
   ],
   "source": [
    "# get a set of all object classes in object reservoir\n",
    "object_classes = set()\n",
    "for obj in object_reservoir:\n",
    "    object_classes.add(obj['object_class'])\n",
    "print(object_classes)"
   ]
  },
  {
   "cell_type": "code",
   "execution_count": 4,
   "metadata": {},
   "outputs": [
    {
     "name": "stdout",
     "output_type": "stream",
     "text": [
      "25490\n",
      "36\n"
     ]
    }
   ],
   "source": [
    "len(object_reservoir) # num objects 29579\n",
    "\n",
    "num_objects = [6721, 2026, 1985, 1554, 1427, 1271, 1255, 928, 745, 661, 657, 551, 486, 481, 406, 390, 386, 364, 307, 300, 292, 279, 253, 251, 216, 201, 190, 186, 177, 170, 116, 113, 52, 39, 32, 22]\n",
    "print(sum(num_objects)) # 29579 # 25490\n",
    "print(len(num_objects)) # 36"
   ]
  },
  {
   "cell_type": "code",
   "execution_count": 5,
   "metadata": {},
   "outputs": [],
   "source": [
    "# # randomly select an object from the reservoir\n",
    "# object_idx = 7\n",
    "\n",
    "# object_0 = object_reservoir[object_idx]\n",
    "# for _key in object_0.keys():\n",
    "#     # print key and value if the key is not 'object_point_cloud'\n",
    "#     if _key != 'object_point_cloud':\n",
    "#         print(_key, object_0[_key])\n",
    "#         if _key == 'object_class':\n",
    "#             print(config.class2type[object_0[_key]])\n",
    "#     else:\n",
    "#         print(_key, object_0[_key].shape)\n",
    "# # visualize object_0['object_point_cloud']\n",
    "# fig = plt.figure()\n",
    "# ax = fig.add_subplot(111, projection='3d')\n",
    "# ax.scatter(object_0['object_point_cloud'][:,0], object_0['object_point_cloud'][:,1], object_0['object_point_cloud'][:,2])\n",
    "# plt.show()"
   ]
  },
  {
   "cell_type": "code",
   "execution_count": 6,
   "metadata": {},
   "outputs": [],
   "source": [
    "TOTAL_BUDGET = 1000\n",
    "LOAD_PATH = 'object_reservoir.pth'\n",
    "mbo = Memory_Bank_Object(total_budget=TOTAL_BUDGET, load_path=LOAD_PATH)\n",
    "obj_idx_check = 88"
   ]
  },
  {
   "cell_type": "code",
   "execution_count": 7,
   "metadata": {},
   "outputs": [
    {
     "name": "stdout",
     "output_type": "stream",
     "text": [
      "Adding 1000 objects to the memory bank.\n",
      "1000\n",
      "{'scene_name': 'scene0310_00', 'object_id': 39, 'object_class': 0, 'object_point_cloud': array([[  1.1953244,   1.3193747,   1.1298935, 206.       , 190.       ,\n",
      "        178.       ],\n",
      "       [  1.1702533,   1.3535439,   0.9768777, 110.       , 114.       ,\n",
      "        115.       ],\n",
      "       [  1.1036168,   1.2563448,   0.9998543, 103.       ,  95.       ,\n",
      "        109.       ],\n",
      "       ...,\n",
      "       [  1.095832 ,   1.3010659,   1.1273091, 153.       , 145.       ,\n",
      "        150.       ],\n",
      "       [  1.0963621,   1.3119166,   1.0237806, 126.       , 123.       ,\n",
      "        128.       ],\n",
      "       [  1.0927912,   1.330611 ,   1.1266642, 136.       , 132.       ,\n",
      "        138.       ]], dtype=float32)}\n"
     ]
    }
   ],
   "source": [
    "mbo.update_memory(budget=-1, classes=[0, 1, 2, 3, 4, 5, 6], criteria='random')\n",
    "# print the length of the memory bank\n",
    "print(len(mbo))\n",
    "# print the 8th object in the memory bank\n",
    "print(mbo[obj_idx_check])"
   ]
  },
  {
   "cell_type": "code",
   "execution_count": 8,
   "metadata": {},
   "outputs": [],
   "source": [
    "# create a new numpy array of the shape mbo.one_hot_mask and fill it with values from mbo.one_hot_mask. Do not fill it will all zeros.\n",
    "one_hot_mask = np.zeros(mbo.one_hot_mask.shape)\n",
    "one_hot_mask = mbo.one_hot_mask.copy()"
   ]
  },
  {
   "cell_type": "code",
   "execution_count": 9,
   "metadata": {},
   "outputs": [
    {
     "name": "stdout",
     "output_type": "stream",
     "text": [
      "Adding 500 objects to the memory bank.\n",
      "1000\n"
     ]
    }
   ],
   "source": [
    "mbo.update_memory(budget=-1, classes=[7,8,9,10,11,12,13], criteria='random')\n",
    "# print the length of the memory bank\n",
    "print(len(mbo))\n",
    "# print the 8th object in the memory bank\n",
    "# print(mbo[obj_idx_check])"
   ]
  },
  {
   "cell_type": "code",
   "execution_count": 10,
   "metadata": {},
   "outputs": [],
   "source": [
    "mask_stage_1 = mbo.one_hot_mask"
   ]
  },
  {
   "cell_type": "code",
   "execution_count": 18,
   "metadata": {},
   "outputs": [
    {
     "name": "stdout",
     "output_type": "stream",
     "text": [
      "500\n"
     ]
    }
   ],
   "source": [
    "# in one_hot_mask and mask_stage_1, find the indices where both are 1.\n",
    "indices = np.where((one_hot_mask == 0) & (mask_stage_1 == 1))\n",
    "print(len(indices[0])) # 0"
   ]
  },
  {
   "cell_type": "code",
   "execution_count": 19,
   "metadata": {},
   "outputs": [
    {
     "name": "stdout",
     "output_type": "stream",
     "text": [
      "Adding 333 objects to the memory bank.\n",
      "1000\n"
     ]
    }
   ],
   "source": [
    "mbo.update_memory(budget=-1, classes=[14,15,16,17,18,19,20], criteria='random')\n",
    "# print the length of the memory bank\n",
    "print(len(mbo))\n",
    "# print the 8th object in the memory bank\n",
    "# print(mbo[obj_idx_check])"
   ]
  },
  {
   "cell_type": "code",
   "execution_count": 20,
   "metadata": {},
   "outputs": [],
   "source": [
    "mask_stage_2 = mbo.one_hot_mask"
   ]
  },
  {
   "cell_type": "code",
   "execution_count": 24,
   "metadata": {},
   "outputs": [
    {
     "name": "stdout",
     "output_type": "stream",
     "text": [
      "331\n"
     ]
    }
   ],
   "source": [
    "# in one_hot_mask and mask_stage_1, find the indices where both are 1.\n",
    "indices = np.where((one_hot_mask == 1) & (mask_stage_2 == 1))\n",
    "print(len(indices[0])) # 0"
   ]
  },
  {
   "cell_type": "code",
   "execution_count": 10,
   "metadata": {},
   "outputs": [
    {
     "name": "stdout",
     "output_type": "stream",
     "text": [
      "Adding 250 objects to the memory bank.\n",
      "1000\n",
      "{'scene_name': 'scene0359_00', 'object_id': 3, 'object_class': 19, 'object_point_cloud': array([[ 5.0468940e-01,  8.3762985e-01,  6.0741168e-01,  1.3400000e+02,\n",
      "         9.7000000e+01,  5.6000000e+01],\n",
      "       [ 2.9532003e-01, -1.2838641e+00,  5.9754020e-01,  1.4900000e+02,\n",
      "         1.1500000e+02,  8.4000000e+01],\n",
      "       [ 2.6913908e-01,  8.1671840e-01,  1.1035556e-03,  5.1000000e+01,\n",
      "         4.9000000e+01,  3.9000000e+01],\n",
      "       ...,\n",
      "       [ 4.4670415e-01,  1.3078301e-01,  8.1197667e-01,  4.1000000e+01,\n",
      "         3.6000000e+01,  2.9000000e+01],\n",
      "       [ 9.1425705e-01,  5.1757568e-01, -4.3650065e-03,  5.0000000e+01,\n",
      "         4.6000000e+01,  3.6000000e+01],\n",
      "       [ 4.6300647e-01,  6.4903134e-01,  4.6623667e-04,  4.6000000e+01,\n",
      "         4.3000000e+01,  3.3000000e+01]], dtype=float32)}\n"
     ]
    }
   ],
   "source": [
    "mbo.update_memory(budget=-1, classes=[21,22,23,24,25,26,27], criteria='random')\n",
    "# print the length of the memory bank\n",
    "print(len(mbo))\n",
    "# print the 8th object in the memory bank\n",
    "print(mbo[obj_idx_check])"
   ]
  },
  {
   "cell_type": "code",
   "execution_count": 11,
   "metadata": {},
   "outputs": [
    {
     "name": "stdout",
     "output_type": "stream",
     "text": [
      "Adding 200 objects to the memory bank.\n",
      "1000\n",
      "{'scene_name': 'scene0280_01', 'object_id': 4, 'object_class': 19, 'object_point_cloud': array([[  2.2629323 ,   1.8884851 ,   0.9729849 , 196.        ,\n",
      "        189.        , 177.        ],\n",
      "       [  1.937362  ,   1.3635402 ,   0.5903004 , 144.        ,\n",
      "        110.        , 132.        ],\n",
      "       [  1.7024807 ,   0.43043536,   0.51419413,  72.        ,\n",
      "         34.        ,  71.        ],\n",
      "       ...,\n",
      "       [  2.0084867 ,   1.9972068 ,   0.6695033 ,  74.        ,\n",
      "         69.        ,  62.        ],\n",
      "       [  2.2880542 ,   0.5738802 ,   0.5614863 , 151.        ,\n",
      "        155.        , 142.        ],\n",
      "       [  2.021271  ,   1.1111015 ,   0.6105524 ,  35.        ,\n",
      "         34.        ,  41.        ]], dtype=float32)}\n"
     ]
    }
   ],
   "source": [
    "mbo.update_memory(budget=-1, classes=[28,29,30,31,32,33,34], criteria='random')\n",
    "# print the length of the memory bank\n",
    "print(len(mbo))\n",
    "# print the 8th object in the memory bank\n",
    "print(mbo[obj_idx_check])"
   ]
  }
 ],
 "metadata": {
  "kernelspec": {
   "display_name": "venv",
   "language": "python",
   "name": "python3"
  },
  "language_info": {
   "codemirror_mode": {
    "name": "ipython",
    "version": 3
   },
   "file_extension": ".py",
   "mimetype": "text/x-python",
   "name": "python",
   "nbconvert_exporter": "python",
   "pygments_lexer": "ipython3",
   "version": "3.8.10"
  }
 },
 "nbformat": 4,
 "nbformat_minor": 2
}
