{
 "cells": [
  {
   "cell_type": "code",
   "execution_count": 29,
   "metadata": {},
   "outputs": [],
   "source": [
    "import numpy as np\n",
    "counts={}\n",
    "with open('/home/zhongyao/wufang/votenet/scannet/meta_data/scannetv2_train.txt', 'r') as f:\n",
    "    lines = f.read().splitlines()\n",
    "for line in lines:\n",
    "    a = np.load('/home/zhongyao/wufang/votenet/scannet/scannet_train_detection_data40/' + line + '_bbox.npy')\n",
    "    for i in a:\n",
    "        if i[-1] not in counts:\n",
    "            counts[i[-1]] = 1\n",
    "        else:   \n",
    "            counts[i[-1]] += 1\n"
   ]
  },
  {
   "cell_type": "code",
   "execution_count": 30,
   "metadata": {},
   "outputs": [
    {
     "data": {
      "text/plain": [
       "{1.0: 6721,\n",
       " 8.0: 2026,\n",
       " 7.0: 1271,\n",
       " 38.0: 1031,\n",
       " 9.0: 928,\n",
       " 40.0: 6857,\n",
       " 39.0: 1985,\n",
       " 5.0: 4357,\n",
       " 30.0: 251,\n",
       " 2.0: 1255,\n",
       " 15.0: 486,\n",
       " 29.0: 657,\n",
       " 36.0: 113,\n",
       " 34.0: 390,\n",
       " 3.0: 1427,\n",
       " 28.0: 116,\n",
       " 33.0: 201,\n",
       " 11.0: 661,\n",
       " 27.0: 481,\n",
       " 19.0: 279,\n",
       " 6.0: 406,\n",
       " 14.0: 551,\n",
       " 37.0: 253,\n",
       " 10.0: 300,\n",
       " 21.0: 386,\n",
       " 25.0: 177,\n",
       " 22.0: 614,\n",
       " 23.0: 1554,\n",
       " 18.0: 745,\n",
       " 4.0: 307,\n",
       " 24.0: 186,\n",
       " 35.0: 364,\n",
       " 32.0: 190,\n",
       " 12.0: 216,\n",
       " 20.0: 32,\n",
       " 17.0: 170,\n",
       " 16.0: 292,\n",
       " 13.0: 22,\n",
       " 26.0: 52,\n",
       " 31.0: 39}"
      ]
     },
     "execution_count": 30,
     "metadata": {},
     "output_type": "execute_result"
    }
   ],
   "source": [
    "counts"
   ]
  },
  {
   "cell_type": "code",
   "execution_count": 4,
   "metadata": {},
   "outputs": [],
   "source": [
    "counts = sorted(counts.items(), key=lambda x: x[1], reverse=True)"
   ]
  },
  {
   "cell_type": "code",
   "execution_count": 23,
   "metadata": {},
   "outputs": [
    {
     "data": {
      "text/plain": [
       "[(40.0, 6857),\n",
       " (1.0, 6721),\n",
       " (5.0, 4357),\n",
       " (8.0, 2026),\n",
       " (39.0, 1985),\n",
       " (23.0, 1554),\n",
       " (3.0, 1427),\n",
       " (7.0, 1271),\n",
       " (2.0, 1255),\n",
       " (38.0, 1031),\n",
       " (9.0, 928),\n",
       " (18.0, 745),\n",
       " (11.0, 661),\n",
       " (29.0, 657),\n",
       " (22.0, 614),\n",
       " (14.0, 551),\n",
       " (15.0, 486),\n",
       " (27.0, 481),\n",
       " (6.0, 406),\n",
       " (34.0, 390),\n",
       " (21.0, 386),\n",
       " (35.0, 364),\n",
       " (4.0, 307),\n",
       " (10.0, 300),\n",
       " (16.0, 292),\n",
       " (19.0, 279),\n",
       " (37.0, 253),\n",
       " (30.0, 251),\n",
       " (12.0, 216),\n",
       " (33.0, 201),\n",
       " (32.0, 190),\n",
       " (24.0, 186),\n",
       " (25.0, 177),\n",
       " (17.0, 170),\n",
       " (28.0, 116),\n",
       " (36.0, 113),\n",
       " (26.0, 52),\n",
       " (31.0, 39),\n",
       " (20.0, 32),\n",
       " (13.0, 22)]"
      ]
     },
     "execution_count": 23,
     "metadata": {},
     "output_type": "execute_result"
    }
   ],
   "source": [
    "counts"
   ]
  },
  {
   "cell_type": "code",
   "execution_count": 10,
   "metadata": {},
   "outputs": [
    {
     "name": "stdout",
     "output_type": "stream",
     "text": [
      "6857, 6721, 4357, 2026, 1985, 1554, 1427, 1271, 1255, 1031, 928, 745, 661, 657, 614, 551, 486, 481, 406, 390, 386, 364, 307, 300, 292, 279, 253, 251, 216, 201, 190, 186, 177, 170, 116, 113, 52, 39, 32, 22\n"
     ]
    }
   ],
   "source": [
    "numbers = [str(int(count[1])) for count in counts]\n",
    "\n",
    "# 使用逗号将数字连接起来并打印\n",
    "print(', '.join(numbers))"
   ]
  },
  {
   "cell_type": "code",
   "execution_count": 17,
   "metadata": {},
   "outputs": [
    {
     "name": "stdout",
     "output_type": "stream",
     "text": [
      "(18, 3)\n"
     ]
    }
   ],
   "source": [
    "x=np.load('/home/zhongyao/wufang/votenet/scannet/meta_data/scannet_means.npz')['arr_0']\n",
    "print(x.shape)"
   ]
  },
  {
   "cell_type": "code",
   "execution_count": 20,
   "metadata": {},
   "outputs": [
    {
     "name": "stdout",
     "output_type": "stream",
     "text": [
      "[1.48129511 3.52074146 1.85652947 1.74445975 0.23195696 0.57235193\n",
      " 9.        ]\n"
     ]
    }
   ],
   "source": [
    "x=np.load('/home/zhongyao/wufang/votenet/scannet/scannet_train_detection_data40/scene0000_00_bbox.npy')\n",
    "print(x[0])"
   ]
  },
  {
   "cell_type": "code",
   "execution_count": 45,
   "metadata": {},
   "outputs": [],
   "source": [
    "import numpy as np\n",
    "\n",
    "size3 = {}\n",
    "size4 = {}\n",
    "size5 = {}\n",
    "\n",
    "with open('/home/zhongyao/wufang/votenet/scannet/meta_data/scannetv2_train.txt', 'r') as f:\n",
    "    lines = f.read().splitlines()\n",
    "\n",
    "for line in lines:\n",
    "    a = np.load('/home/zhongyao/wufang/votenet/scannet/scannet_train_detection_data40/' + line + '_bbox.npy')\n",
    "    for i in a:\n",
    "        if i[-1] not in size3:\n",
    "            size3[i[-1]] = i[3]\n",
    "            size4[i[-1]] = i[4]\n",
    "            size5[i[-1]] = i[5]\n",
    "        else:   \n",
    "            size3[i[-1]] += i[3]\n",
    "            size4[i[-1]] += i[4]\n",
    "            size5[i[-1]] += i[5]\n",
    "with open('/home/zhongyao/wufang/votenet/scannet/meta_data/scannetv2_val.txt', 'r') as f:\n",
    "    lines = f.read().splitlines()\n",
    "\n",
    "# for line in lines:\n",
    "#     a = np.load('/home/zhongyao/wufang/votenet/scannet/scannet_val_detection_data40/' + line + '_bbox.npy')\n",
    "#     for i in a:\n",
    "#         if i[-1] not in size3:\n",
    "#             size3[i[-1]] = i[3]\n",
    "#             size4[i[-1]] = i[4]\n",
    "#             size5[i[-1]] = i[5]\n",
    "#         else:   \n",
    "#             size3[i[-1]] += i[3]\n",
    "#             size4[i[-1]] += i[4]\n",
    "#             size5[i[-1]] += i[5]\n",
    "# 计算平均值\n",
    "average3 = {key: value / counts[key] for key, value in size3.items() if key in counts}\n",
    "average4 = {key: value / counts[key] for key, value in size4.items() if key in counts}\n",
    "average5 = {key: value / counts[key] for key, value in size5.items() if key in counts}\n"
   ]
  },
  {
   "cell_type": "code",
   "execution_count": 46,
   "metadata": {},
   "outputs": [
    {
     "data": {
      "text/plain": [
       "{1.0: 1.770031532759628,\n",
       " 8.0: 1.7190299373918083,\n",
       " 7.0: 0.6349110067430019,\n",
       " 38.0: 0.7969744719210813,\n",
       " 9.0: 1.1885096240981385,\n",
       " 40.0: 0.3592253533898654,\n",
       " 39.0: 0.6466654514673374,\n",
       " 5.0: 0.7050861664251474,\n",
       " 30.0: 1.077547378274074,\n",
       " 2.0: 0.2736213394192111,\n",
       " 15.0: 1.1382653775161187,\n",
       " 29.0: 0.40359194953238403,\n",
       " 36.0: 0.5300481055690124,\n",
       " 34.0: 0.3090853559665191,\n",
       " 3.0: 0.9764581385950317,\n",
       " 28.0: 1.6774457867803245,\n",
       " 33.0: 0.725721286600502,\n",
       " 11.0: 0.5794232971233607,\n",
       " 27.0: 0.3776020978436091,\n",
       " 19.0: 0.7359719618246974,\n",
       " 6.0: 0.8341014523591314,\n",
       " 14.0: 0.8650206335551509,\n",
       " 37.0: 0.35615243391674967,\n",
       " 10.0: 1.6820667014519373,\n",
       " 21.0: 0.568248455060424,\n",
       " 25.0: 0.635974454425149,\n",
       " 22.0: 0.18658046264213538,\n",
       " 23.0: 0.29994441452346254,\n",
       " 18.0: 0.28423646470444314,\n",
       " 4.0: 1.1926351247858924,\n",
       " 24.0: 1.3260876007618443,\n",
       " 35.0: 0.5116600049761953,\n",
       " 32.0: 0.6640420518423381,\n",
       " 12.0: 0.2776825423869822,\n",
       " 20.0: 0.08083783113397658,\n",
       " 17.0: 0.9582426122006248,\n",
       " 16.0: 1.6293216076207488,\n",
       " 13.0: 1.2523265426809138,\n",
       " 26.0: 0.19945267014778578,\n",
       " 31.0: 0.9868999666128403}"
      ]
     },
     "execution_count": 46,
     "metadata": {},
     "output_type": "execute_result"
    }
   ],
   "source": [
    "average5"
   ]
  },
  {
   "cell_type": "code",
   "execution_count": 34,
   "metadata": {},
   "outputs": [
    {
     "name": "stdout",
     "output_type": "stream",
     "text": [
      "[[0.76966726 0.81160211 0.92573741]\n",
      " [1.876858   1.84255952 1.19315654]\n",
      " [0.61327999 0.61486087 0.71827014]\n",
      " [1.39550063 1.51215451 0.83443565]\n",
      " [0.97949596 1.06751485 0.63296875]\n",
      " [0.53166301 0.59555772 1.75001483]\n",
      " [0.96247056 0.72462326 1.14818682]\n",
      " [0.83221924 1.04909355 1.68756634]\n",
      " [0.21132214 0.4206159  0.53728459]\n",
      " [1.44400728 1.89708334 0.26985747]\n",
      " [1.02942616 1.40407966 0.87554322]\n",
      " [1.37664116 0.65521793 1.68131292]\n",
      " [0.66508189 0.71111926 1.29885307]\n",
      " [0.41999174 0.37906947 1.75139715]\n",
      " [0.59359559 0.59124924 0.73919014]\n",
      " [0.50867595 0.50656087 0.30136236]\n",
      " [1.15115265 1.0546296  0.49706794]\n",
      " [0.47535286 0.49249493 0.58021168]]\n"
     ]
    }
   ],
   "source": [
    "x=np.load('/home/zhongyao/wufang/votenet/scannet/meta_data/scannet_means.npz')['arr_0']\n",
    "print(x)"
   ]
  },
  {
   "cell_type": "code",
   "execution_count": 47,
   "metadata": {},
   "outputs": [],
   "source": [
    "keys_order = [40, 1, 5, 8, 39, 23, 3, 7, 2, 38, 9, 18, 11, 29, 22, 14, 15, 27, 6, 34, 21, 35, 4, 10, 16, 19, 37, 30, 12, 33, 32, 24, 25, 17, 28, 36, 26, 31, 20, 13]\n",
    "\n",
    "new_arr = np.zeros((len(keys_order), 3))\n",
    "\n",
    "for i, key in enumerate(keys_order):\n",
    "    if key in average3 and key in average4 and key in average5:\n",
    "        new_arr[i] = [average3[key], average4[key], average5[key]]\n",
    "\n",
    "np.savez('/home/zhongyao/wufang/votenet/scannet/meta_data/mean40.npz', new_arr)"
   ]
  },
  {
   "cell_type": "code",
   "execution_count": 49,
   "metadata": {},
   "outputs": [
    {
     "name": "stdout",
     "output_type": "stream",
     "text": [
      "(40, 3)\n"
     ]
    }
   ],
   "source": [
    "x=np.load('/home/zhongyao/wufang/votenet/scannet/meta_data/mean40.npz')['arr_0']\n",
    "print(x.shape)"
   ]
  }
 ],
 "metadata": {
  "kernelspec": {
   "display_name": "PQ",
   "language": "python",
   "name": "python3"
  },
  "language_info": {
   "codemirror_mode": {
    "name": "ipython",
    "version": 3
   },
   "file_extension": ".py",
   "mimetype": "text/x-python",
   "name": "python",
   "nbconvert_exporter": "python",
   "pygments_lexer": "ipython3",
   "version": "3.8.18"
  }
 },
 "nbformat": 4,
 "nbformat_minor": 2
}
