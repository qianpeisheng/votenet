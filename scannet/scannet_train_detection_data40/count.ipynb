{
 "cells": [
  {
   "cell_type": "code",
   "execution_count": 24,
   "metadata": {},
   "outputs": [
    {
     "data": {
      "text/plain": [
       "array([[-4.69051749e-01, -8.07710648e-01,  7.10233033e-01,\n",
       "         1.22392511e+00,  1.55709028e+00,  1.51176703e+00,\n",
       "         3.80000000e+01],\n",
       "       [ 6.37784421e-01, -9.12362516e-01,  6.17489219e-01,\n",
       "         1.05392396e+00,  1.59020054e+00,  1.23856902e+00,\n",
       "         3.80000000e+01],\n",
       "       [ 1.61140561e+00, -1.23449874e+00,  7.56240964e-01,\n",
       "         2.29552627e-01,  1.06183708e+00,  1.06934369e-01,\n",
       "         3.80000000e+01],\n",
       "       [ 1.54239345e+00,  2.14731425e-01,  1.08584762e+00,\n",
       "         1.37127638e-02,  1.14878118e-01,  1.62116170e-01,\n",
       "         3.80000000e+01],\n",
       "       [ 1.27644241e+00, -1.80304535e-02,  1.12148249e+00,\n",
       "         1.04243040e-01,  1.31738093e-02,  9.72857475e-02,\n",
       "         3.80000000e+01]])"
      ]
     },
     "execution_count": 24,
     "metadata": {},
     "output_type": "execute_result"
    }
   ],
   "source": [
    "import numpy as np\n",
    "data=np.load('scene0096_00_bbox.npy')\n",
    "index=np.where(data[:,-1]==38)[0]\n",
    "data[index]"
   ]
  }
 ],
 "metadata": {
  "kernelspec": {
   "display_name": "PQ",
   "language": "python",
   "name": "python3"
  },
  "language_info": {
   "codemirror_mode": {
    "name": "ipython",
    "version": 3
   },
   "file_extension": ".py",
   "mimetype": "text/x-python",
   "name": "python",
   "nbconvert_exporter": "python",
   "pygments_lexer": "ipython3",
   "version": "3.8.18"
  }
 },
 "nbformat": 4,
 "nbformat_minor": 2
}
